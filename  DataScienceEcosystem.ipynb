{
 "cells": [
  {
   "cell_type": "code",
   "execution_count": 3,
   "id": "40bc813a",
   "metadata": {},
   "outputs": [],
   "source": [
    "# Data Science Tools and Ecosystem\n"
   ]
  },
  {
   "cell_type": "markdown",
   "id": "dce1e851",
   "metadata": {},
   "source": [
    "In this notebook, Data Science Tools and Ecosystem are summarized."
   ]
  },
  {
   "cell_type": "markdown",
   "id": "b65a2387",
   "metadata": {},
   "source": [
    "1. Python  \n",
    "   - Widely used for data analysis, machine learning, and data visualization.  \n",
    "   - Has a vast ecosystem of libraries and frameworks like NumPy, Pandas, Matplotlib, Scikit-learn, TensorFlow, and PyTorch.  \n",
    "  \n",
    "2. R  \n",
    "   - Another popular language for statistical analysis and data visualization.  \n",
    "   - Known for its strong statistical capabilities and extensive set of packages in CRAN.  \n",
    "  \n",
    "3. Julia  \n",
    "   - A high-performance language designed for scientific computing.  \n",
    "   - Offers both the ease of use of high-level languages and the performance of low-level languages.  \n",
    "   - Growing in popularity among data scientists for its speed and flexibility."
   ]
  },
  {
   "cell_type": "markdown",
   "id": "7f30f0ae",
   "metadata": {},
   "source": [
    "1. NumPy  \n",
    "   - A fundamental library for scientific computing in Python.  \n",
    "   - Provides a high-performance multidimensional array object and tools for working with these arrays.  \n",
    "  \n",
    "2. Pandas  \n",
    "   - A powerful data analysis and manipulation library built on top of NumPy.  \n",
    "   - Offers easy-to-use data structures and data analysis tools for Python.  \n",
    "  \n",
    "3. Matplotlib  \n",
    "   - A Python 2D plotting library which produces publication-quality figures in a variety of hardcopy formats and interactive environments across platforms.  \n",
    "   - Often used alongside Pandas for data visualization.  \n",
    "  \n",
    "4. (Optional) Scikit-learn  \n",
    "   - A simple and efficient tool for data mining and data analysis built on NumPy, SciPy, and matplotlib.  \n",
    "   - Provides simple and efficient tools for data mining and data analysis through a consistent and simple Python interface.  \n",
    "   - Especially popular for machine learning tasks."
   ]
  },
  {
   "cell_type": "code",
   "execution_count": 6,
   "id": "7c69d6ef",
   "metadata": {},
   "outputs": [
    {
     "name": "stdout",
     "output_type": "stream",
     "text": [
      "               Tool\n",
      "0  Jupyter Notebook\n",
      "1           RStudio\n",
      "2      Google Colab\n"
     ]
    }
   ],
   "source": [
    "import pandas as pd  \n",
    "  \n",
    "# 创建一个DataFrame  \n",
    "data_science_tools = pd.DataFrame({  \n",
    "    'Tool': ['Jupyter Notebook', 'RStudio', 'Google Colab']  \n",
    "})  \n",
    "  \n",
    "# 显示DataFrame  \n",
    "print(data_science_tools)"
   ]
  },
  {
   "cell_type": "markdown",
   "id": "a84128d7",
   "metadata": {},
   "source": [
    "### Below are a few examples of evaluating arithmetic expressions in Python"
   ]
  },
  {
   "cell_type": "code",
   "execution_count": 7,
   "id": "02825f51",
   "metadata": {},
   "outputs": [
    {
     "data": {
      "text/plain": [
       "17"
      ]
     },
     "execution_count": 7,
     "metadata": {},
     "output_type": "execute_result"
    }
   ],
   "source": [
    "(3*4)+5\n",
    "### his a simple arithmetic expression to mutiply then add integers"
   ]
  },
  {
   "cell_type": "code",
   "execution_count": 9,
   "id": "e46af9e5",
   "metadata": {},
   "outputs": [
    {
     "name": "stdout",
     "output_type": "stream",
     "text": [
      "200 minutes to hours is 3.3333333333333335\n"
     ]
    }
   ],
   "source": [
    "#This will convert 200 minutes to hours by diving by 60\n",
    "print( \"200 minutes to hours is\", 200/60)\n"
   ]
  },
  {
   "cell_type": "markdown",
   "id": "fae7c872",
   "metadata": {},
   "source": [
    "**Objectives**:  \n",
    "  \n",
    "- Understand the basics of Jupyter Notebook and its use in data science.  \n",
    "- List popular programming languages for data science, such as Python and R.  \n",
    "- Learn how to evaluate arithmetic expressions in Python.  \n",
    "- Explore the use of pandas DataFrame for storing and manipulating structured data.  \n",
    "- Gain an overview of the key concepts and tools covered in this course."
   ]
  },
  {
   "cell_type": "code",
   "execution_count": 11,
   "id": "e595777b",
   "metadata": {},
   "outputs": [],
   "source": [
    "###Author：kaifeng，Xiao\n"
   ]
  },
  {
   "cell_type": "code",
   "execution_count": null,
   "id": "7c2e85ae",
   "metadata": {},
   "outputs": [],
   "source": []
  }
 ],
 "metadata": {
  "kernelspec": {
   "display_name": "Python 3 (ipykernel)",
   "language": "python",
   "name": "python3"
  },
  "language_info": {
   "codemirror_mode": {
    "name": "ipython",
    "version": 3
   },
   "file_extension": ".py",
   "mimetype": "text/x-python",
   "name": "python",
   "nbconvert_exporter": "python",
   "pygments_lexer": "ipython3",
   "version": "3.11.5"
  }
 },
 "nbformat": 4,
 "nbformat_minor": 5
}
